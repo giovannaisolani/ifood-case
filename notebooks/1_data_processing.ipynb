{
 "cells": [
  {
   "cell_type": "markdown",
   "metadata": {},
   "source": [
    "# Processamento dos dados Raw "
   ]
  },
  {
   "cell_type": "markdown",
   "metadata": {},
   "source": [
    "## 0.General imports"
   ]
  },
  {
   "cell_type": "code",
   "execution_count": null,
   "metadata": {},
   "outputs": [],
   "source": [
    "from pyspark.sql import SparkSession\n",
    "from pyspark.sql.functions import isnan, when,array_contains, coalesce, months_between, lit,min, max, to_date, col, sum as spark_sum\n",
    "\n"
   ]
  },
  {
   "cell_type": "markdown",
   "metadata": {},
   "source": [
    "## 1. Data load"
   ]
  },
  {
   "cell_type": "code",
   "execution_count": 1,
   "metadata": {},
   "outputs": [
    {
     "name": "stderr",
     "output_type": "stream",
     "text": [
      "25/04/27 15:27:14 WARN Utils: Your hostname, Giovannas-MacBook-Air.local resolves to a loopback address: 127.0.0.1; using 192.168.0.49 instead (on interface en0)\n",
      "25/04/27 15:27:14 WARN Utils: Set SPARK_LOCAL_IP if you need to bind to another address\n",
      "Setting default log level to \"WARN\".\n",
      "To adjust logging level use sc.setLogLevel(newLevel). For SparkR, use setLogLevel(newLevel).\n",
      "25/04/27 15:27:15 WARN NativeCodeLoader: Unable to load native-hadoop library for your platform... using builtin-java classes where applicable\n",
      "25/04/27 15:27:17 WARN Utils: Service 'SparkUI' could not bind on port 4040. Attempting port 4041.\n",
      "                                                                                \r"
     ]
    }
   ],
   "source": [
    "\n",
    "spark = SparkSession.builder.appName(\"iFoodCase\").getOrCreate()\n",
    "offers_df = spark.read.json(\"../data/raw/offers.json\")\n",
    "profile_df = spark.read.json(\"../data/raw/profile.json\")\n",
    "transactions_df = spark.read.json(\"../data/raw/transactions.json\")"
   ]
  },
  {
   "cell_type": "code",
   "execution_count": 2,
   "metadata": {},
   "outputs": [
    {
     "name": "stdout",
     "output_type": "stream",
     "text": [
      "Offers partitions: 1\n",
      "Profile partitions: 1\n",
      "Transactions partitions: 4\n"
     ]
    }
   ],
   "source": [
    "\n",
    "print(f\"Offers partitions: {offers_df.rdd.getNumPartitions()}\")\n",
    "print(f\"Profile partitions: {profile_df.rdd.getNumPartitions()}\")\n",
    "print(f\"Transactions partitions: {transactions_df.rdd.getNumPartitions()}\")"
   ]
  },
  {
   "cell_type": "markdown",
   "metadata": {},
   "source": [
    "## 2. Visualizing Data"
   ]
  },
  {
   "cell_type": "code",
   "execution_count": 3,
   "metadata": {},
   "outputs": [
    {
     "name": "stdout",
     "output_type": "stream",
     "text": [
      "Schema de offers:\n",
      "root\n",
      " |-- channels: array (nullable = true)\n",
      " |    |-- element: string (containsNull = true)\n",
      " |-- discount_value: long (nullable = true)\n",
      " |-- duration: double (nullable = true)\n",
      " |-- id: string (nullable = true)\n",
      " |-- min_value: long (nullable = true)\n",
      " |-- offer_type: string (nullable = true)\n",
      "\n",
      "\n",
      "Schema de profile:\n",
      "root\n",
      " |-- age: long (nullable = true)\n",
      " |-- credit_card_limit: double (nullable = true)\n",
      " |-- gender: string (nullable = true)\n",
      " |-- id: string (nullable = true)\n",
      " |-- registered_on: string (nullable = true)\n",
      "\n",
      "\n",
      "Schema de transactions:\n",
      "root\n",
      " |-- account_id: string (nullable = true)\n",
      " |-- event: string (nullable = true)\n",
      " |-- time_since_test_start: double (nullable = true)\n",
      " |-- value: struct (nullable = true)\n",
      " |    |-- amount: double (nullable = true)\n",
      " |    |-- offer id: string (nullable = true)\n",
      " |    |-- offer_id: string (nullable = true)\n",
      " |    |-- reward: double (nullable = true)\n",
      "\n"
     ]
    }
   ],
   "source": [
    "# Verificando os schemas\n",
    "print(\"Schema de offers:\")\n",
    "offers_df.printSchema()\n",
    "\n",
    "print(\"\\nSchema de profile:\")\n",
    "profile_df.printSchema()\n",
    "\n",
    "print(\"\\nSchema de transactions:\")\n",
    "transactions_df.printSchema()"
   ]
  },
  {
   "cell_type": "code",
   "execution_count": 4,
   "metadata": {},
   "outputs": [
    {
     "name": "stdout",
     "output_type": "stream",
     "text": [
      "+----------------------------+--------------+--------+--------------------------------+---------+-------------+\n",
      "|channels                    |discount_value|duration|id                              |min_value|offer_type   |\n",
      "+----------------------------+--------------+--------+--------------------------------+---------+-------------+\n",
      "|[email, mobile, social]     |10            |7.0     |ae264e3637204a6fb9bb56bc8210ddfd|10       |bogo         |\n",
      "|[web, email, mobile, social]|10            |5.0     |4d5c57ea9a6940dd891ad53e9dbe8da0|10       |bogo         |\n",
      "|[web, email, mobile]        |0             |4.0     |3f207df678b143eea3cee63160fa8bed|0        |informational|\n",
      "|[web, email, mobile]        |5             |7.0     |9b98b8c7a33c4b65b9aebfe6a799e6d9|5        |bogo         |\n",
      "|[web, email]                |5             |10.0    |0b1e1539f2cc45b7b9fa7c272da2e1d7|20       |discount     |\n",
      "|[web, email, mobile, social]|3             |7.0     |2298d6c36e964ae4a3e7e9706d1fb8c2|7        |discount     |\n",
      "|[web, email, mobile, social]|2             |10.0    |fafdcd668e3743c1bb461111dcafc2a4|10       |discount     |\n",
      "|[email, mobile, social]     |0             |3.0     |5a8bc65990b245e5a138643cd4eb9837|0        |informational|\n",
      "|[web, email, mobile, social]|5             |5.0     |f19421c1d4aa40978ebb69ca19b0e20d|5        |bogo         |\n",
      "|[web, email, mobile]        |2             |7.0     |2906b810c7d4411798c6938adc9daaa5|10       |discount     |\n",
      "+----------------------------+--------------+--------+--------------------------------+---------+-------------+\n",
      "\n",
      "+---+-----------------+------+--------------------------------+-------------+\n",
      "|age|credit_card_limit|gender|id                              |registered_on|\n",
      "+---+-----------------+------+--------------------------------+-------------+\n",
      "|118|NULL             |NULL  |68be06ca386d4c31939f3a4f0e3dd783|20170212     |\n",
      "|55 |112000.0         |F     |0610b486422d4921ae7d2bf64640c50b|20170715     |\n",
      "|118|NULL             |NULL  |38fe809add3b4fcf9315a9694bb96ff5|20180712     |\n",
      "|75 |100000.0         |F     |78afa995795e4d85b5d9ceeca43f5fef|20170509     |\n",
      "|118|NULL             |NULL  |a03223e636434f42ac4c3df47e8bac43|20170804     |\n",
      "|68 |70000.0          |M     |e2127556f4f64592b11af22de27a7932|20180426     |\n",
      "|118|NULL             |NULL  |8ec6ce2a7e7949b1bf142def7d0e0586|20170925     |\n",
      "|118|NULL             |NULL  |68617ca6246f4fbc85e91a2a49552598|20171002     |\n",
      "|65 |53000.0          |M     |389bc3fa690240e798340f5a15918d5c|20180209     |\n",
      "|118|NULL             |NULL  |8974fc5686fe429db53ddde067b88302|20161122     |\n",
      "|118|NULL             |NULL  |c4863c7985cf408faee930f111475da3|20170824     |\n",
      "|118|NULL             |NULL  |148adfcaa27d485b82f323aaaad036bd|20150919     |\n",
      "|58 |51000.0          |M     |2eeac8d8feae4a8cad5a6af0499a211d|20171111     |\n",
      "|61 |57000.0          |F     |aa4862eba776480b8bb9c68455b8c2e1|20170911     |\n",
      "|26 |46000.0          |M     |e12aeaf2d47d42479ea1c4ac3d8286c6|20140213     |\n",
      "|62 |71000.0          |F     |31dda685af34476cad5bc968bdb01c53|20160211     |\n",
      "|49 |52000.0          |M     |62cf5e10845442329191fc246e7bcea3|20141113     |\n",
      "|118|NULL             |NULL  |744d603ef08c4f33af5a61c8c7628d1c|20170801     |\n",
      "|57 |42000.0          |M     |6445de3b47274c759400cd68131d91b4|20171231     |\n",
      "|61 |40000.0          |F     |a448667f336b42c9a66fc5ffd5d73772|20180501     |\n",
      "+---+-----------------+------+--------------------------------+-------------+\n",
      "only showing top 20 rows\n",
      "\n"
     ]
    },
    {
     "name": "stderr",
     "output_type": "stream",
     "text": [
      "[Stage 5:>                                                          (0 + 1) / 1]\r"
     ]
    },
    {
     "name": "stdout",
     "output_type": "stream",
     "text": [
      "+--------------------------------+--------------+---------------------+----------------------------------------------------+\n",
      "|account_id                      |event         |time_since_test_start|value                                               |\n",
      "+--------------------------------+--------------+---------------------+----------------------------------------------------+\n",
      "|78afa995795e4d85b5d9ceeca43f5fef|offer received|0.0                  |{NULL, 9b98b8c7a33c4b65b9aebfe6a799e6d9, NULL, NULL}|\n",
      "|a03223e636434f42ac4c3df47e8bac43|offer received|0.0                  |{NULL, 0b1e1539f2cc45b7b9fa7c272da2e1d7, NULL, NULL}|\n",
      "|e2127556f4f64592b11af22de27a7932|offer received|0.0                  |{NULL, 2906b810c7d4411798c6938adc9daaa5, NULL, NULL}|\n",
      "|8ec6ce2a7e7949b1bf142def7d0e0586|offer received|0.0                  |{NULL, fafdcd668e3743c1bb461111dcafc2a4, NULL, NULL}|\n",
      "|68617ca6246f4fbc85e91a2a49552598|offer received|0.0                  |{NULL, 4d5c57ea9a6940dd891ad53e9dbe8da0, NULL, NULL}|\n",
      "|389bc3fa690240e798340f5a15918d5c|offer received|0.0                  |{NULL, f19421c1d4aa40978ebb69ca19b0e20d, NULL, NULL}|\n",
      "|c4863c7985cf408faee930f111475da3|offer received|0.0                  |{NULL, 2298d6c36e964ae4a3e7e9706d1fb8c2, NULL, NULL}|\n",
      "|2eeac8d8feae4a8cad5a6af0499a211d|offer received|0.0                  |{NULL, 3f207df678b143eea3cee63160fa8bed, NULL, NULL}|\n",
      "|aa4862eba776480b8bb9c68455b8c2e1|offer received|0.0                  |{NULL, 0b1e1539f2cc45b7b9fa7c272da2e1d7, NULL, NULL}|\n",
      "|31dda685af34476cad5bc968bdb01c53|offer received|0.0                  |{NULL, 0b1e1539f2cc45b7b9fa7c272da2e1d7, NULL, NULL}|\n",
      "|744d603ef08c4f33af5a61c8c7628d1c|offer received|0.0                  |{NULL, 0b1e1539f2cc45b7b9fa7c272da2e1d7, NULL, NULL}|\n",
      "|3d02345581554e81b7b289ab5e288078|offer received|0.0                  |{NULL, 0b1e1539f2cc45b7b9fa7c272da2e1d7, NULL, NULL}|\n",
      "|4b0da7e80e5945209a1fdddfe813dbe0|offer received|0.0                  |{NULL, ae264e3637204a6fb9bb56bc8210ddfd, NULL, NULL}|\n",
      "|c27e0d6ab72c455a8bb66d980963de60|offer received|0.0                  |{NULL, 3f207df678b143eea3cee63160fa8bed, NULL, NULL}|\n",
      "|d53717f5400c4e84affdaeda9dd926b3|offer received|0.0                  |{NULL, 0b1e1539f2cc45b7b9fa7c272da2e1d7, NULL, NULL}|\n",
      "|f806632c011441378d4646567f357a21|offer received|0.0                  |{NULL, fafdcd668e3743c1bb461111dcafc2a4, NULL, NULL}|\n",
      "|d058f73bf8674a26a95227db098147b1|offer received|0.0                  |{NULL, 0b1e1539f2cc45b7b9fa7c272da2e1d7, NULL, NULL}|\n",
      "|65aba5c617294649aeb624da249e1ee5|offer received|0.0                  |{NULL, 2906b810c7d4411798c6938adc9daaa5, NULL, NULL}|\n",
      "|ebe7ef46ea6f4963a7dd49f501b26779|offer received|0.0                  |{NULL, 9b98b8c7a33c4b65b9aebfe6a799e6d9, NULL, NULL}|\n",
      "|1e9420836d554513ab90eba98552d0a9|offer received|0.0                  |{NULL, ae264e3637204a6fb9bb56bc8210ddfd, NULL, NULL}|\n",
      "+--------------------------------+--------------+---------------------+----------------------------------------------------+\n",
      "only showing top 20 rows\n",
      "\n"
     ]
    },
    {
     "name": "stderr",
     "output_type": "stream",
     "text": [
      "                                                                                \r"
     ]
    }
   ],
   "source": [
    "offers_df.show(truncate=False)\n",
    "profile_df.show(truncate=False)\n",
    "transactions_df.show(truncate=False)"
   ]
  },
  {
   "cell_type": "markdown",
   "metadata": {},
   "source": [
    "### Inspecting dataframe transactions_df"
   ]
  },
  {
   "cell_type": "code",
   "execution_count": 4,
   "metadata": {},
   "outputs": [
    {
     "name": "stderr",
     "output_type": "stream",
     "text": [
      "[Stage 3:============================================>              (3 + 1) / 4]\r"
     ]
    },
    {
     "name": "stdout",
     "output_type": "stream",
     "text": [
      "+---------------+\n",
      "|event          |\n",
      "+---------------+\n",
      "|transaction    |\n",
      "|offer received |\n",
      "|offer completed|\n",
      "|offer viewed   |\n",
      "+---------------+\n",
      "\n"
     ]
    },
    {
     "name": "stderr",
     "output_type": "stream",
     "text": [
      "                                                                                \r"
     ]
    }
   ],
   "source": [
    "# Values of event \n",
    "\n",
    "transactions_df.select(\"event\").distinct().show(truncate=False)\n"
   ]
  },
  {
   "cell_type": "markdown",
   "metadata": {},
   "source": [
    "Há quatro tipos de eventos. Vamos verificar o conteúdo de value para cada um deles"
   ]
  },
  {
   "cell_type": "code",
   "execution_count": 5,
   "metadata": {},
   "outputs": [
    {
     "name": "stderr",
     "output_type": "stream",
     "text": [
      "[Stage 9:============================================>              (3 + 1) / 4]\r"
     ]
    },
    {
     "name": "stdout",
     "output_type": "stream",
     "text": [
      "+------+--------+--------+------+\n",
      "|amount|offer id|offer_id|reward|\n",
      "+------+--------+--------+------+\n",
      "|0.0   |100.0   |100.0   |100.0 |\n",
      "+------+--------+--------+------+\n",
      "\n"
     ]
    },
    {
     "name": "stderr",
     "output_type": "stream",
     "text": [
      "                                                                                \r"
     ]
    }
   ],
   "source": [
    "transactions_only_df = transactions_df.filter(\n",
    "    col(\"event\") == \"transaction\"\n",
    ").select(\"value.*\")\n",
    "\n",
    "total_rows = transactions_only_df.count()\n",
    "\n",
    "# Percentual de nulos por coluna\n",
    "transactions_only_df.select([\n",
    "    (spark_sum(col(c).isNull().cast(\"int\")) / total_rows * 100).alias(c)\n",
    "    for c in transactions_only_df.columns\n",
    "]).show(truncate=False)"
   ]
  },
  {
   "cell_type": "code",
   "execution_count": 6,
   "metadata": {},
   "outputs": [
    {
     "name": "stderr",
     "output_type": "stream",
     "text": [
      "[Stage 15:===========================================>              (3 + 1) / 4]\r"
     ]
    },
    {
     "name": "stdout",
     "output_type": "stream",
     "text": [
      "+------+--------+--------+------+\n",
      "|amount|offer id|offer_id|reward|\n",
      "+------+--------+--------+------+\n",
      "|100.0 |0.0     |100.0   |100.0 |\n",
      "+------+--------+--------+------+\n",
      "\n"
     ]
    },
    {
     "name": "stderr",
     "output_type": "stream",
     "text": [
      "                                                                                \r"
     ]
    }
   ],
   "source": [
    "offers_received_df = transactions_df.filter(\n",
    "    col(\"event\") == \"offer received\"\n",
    ").select(\"value.*\")\n",
    "\n",
    "total_rows_offer_received = offers_received_df.count()\n",
    "\n",
    "# Percentual de nulos por coluna\n",
    "offers_received_df.select([\n",
    "    (spark_sum(col(c).isNull().cast(\"int\")) / total_rows_offer_received * 100).alias(c)\n",
    "    for c in offers_received_df.columns\n",
    "]).show(truncate=False)"
   ]
  },
  {
   "cell_type": "code",
   "execution_count": 7,
   "metadata": {},
   "outputs": [
    {
     "name": "stderr",
     "output_type": "stream",
     "text": [
      "[Stage 21:===========================================>              (3 + 1) / 4]\r"
     ]
    },
    {
     "name": "stdout",
     "output_type": "stream",
     "text": [
      "+------+--------+--------+------+\n",
      "|amount|offer id|offer_id|reward|\n",
      "+------+--------+--------+------+\n",
      "|100.0 |100.0   |0.0     |0.0   |\n",
      "+------+--------+--------+------+\n",
      "\n"
     ]
    },
    {
     "name": "stderr",
     "output_type": "stream",
     "text": [
      "                                                                                \r"
     ]
    }
   ],
   "source": [
    "offers_completed_df = transactions_df.filter(\n",
    "    col(\"event\") == \"offer completed\"\n",
    ").select(\"value.*\")\n",
    "\n",
    "total_rows_offer_completed = offers_completed_df.count()\n",
    "\n",
    "# Percentual de nulos por coluna\n",
    "offers_completed_df.select([\n",
    "    (spark_sum(col(c).isNull().cast(\"int\")) / total_rows_offer_completed * 100).alias(c)\n",
    "    for c in offers_completed_df.columns\n",
    "]).show(truncate=False)\n"
   ]
  },
  {
   "cell_type": "markdown",
   "metadata": {},
   "source": [
    "Quando event é igual a:\n",
    "* transaction, em value apenas a informação de amount está preenchida\n",
    "* offer received, em value apenas a informação de \"offer id\" está preenchida\n",
    "* offer completed,em value apenas a informação de \"offer_id\" e \"reward\" estão preenchidas"
   ]
  },
  {
   "cell_type": "markdown",
   "metadata": {},
   "source": [
    "#### Notas:\n",
    "    1. O dataframe transactions não contém a data da transação e nem da oferta, o que impossibilita utilização de informações históricas de transações para uma oferta recebida, não há chave para cruzamento"
   ]
  },
  {
   "cell_type": "markdown",
   "metadata": {},
   "source": [
    "#### Inspecionando o dataframe profile_df"
   ]
  },
  {
   "cell_type": "code",
   "execution_count": 8,
   "metadata": {},
   "outputs": [
    {
     "name": "stdout",
     "output_type": "stream",
     "text": [
      "+-----------------+-----------------+\n",
      "|min_registered_on|max_registered_on|\n",
      "+-----------------+-----------------+\n",
      "|       2013-07-29|       2018-07-26|\n",
      "+-----------------+-----------------+\n",
      "\n"
     ]
    }
   ],
   "source": [
    "# Data de cadastro - verificar o range\n",
    "\n",
    "profile_df = profile_df.withColumn(\n",
    "    \"registered_on_date\",\n",
    "    to_date(col(\"registered_on\"), \"yyyyMMdd\")\n",
    ")\n",
    "\n",
    "profile_df.select(\n",
    "    min(\"registered_on_date\").alias(\"min_registered_on\"),\n",
    "    max(\"registered_on_date\").alias(\"max_registered_on\")\n",
    ").show()"
   ]
  },
  {
   "cell_type": "markdown",
   "metadata": {},
   "source": [
    "Aqui vou assumir que estamos no dia 2018-07-27 para calcular a distribuição em meses da idade da conta"
   ]
  },
  {
   "cell_type": "code",
   "execution_count": 9,
   "metadata": {},
   "outputs": [],
   "source": [
    "# Calcular idade da conta em meses\n",
    "profile_df = profile_df.withColumn(\n",
    "    \"account_age_months\",\n",
    "    months_between(lit(\"2018-07-27\"), col(\"registered_on_date\"))\n",
    ")"
   ]
  },
  {
   "cell_type": "code",
   "execution_count": 10,
   "metadata": {},
   "outputs": [
    {
     "name": "stderr",
     "output_type": "stream",
     "text": [
      "                                                                                \r"
     ]
    },
    {
     "data": {
      "text/plain": [
       "[0.03225806, 6.93548387, 11.70967742, 25.58064516, 59.93548387]"
      ]
     },
     "execution_count": 10,
     "metadata": {},
     "output_type": "execute_result"
    }
   ],
   "source": [
    "percentis = profile_df.approxQuantile(\"account_age_months\", [0.0, 0.25, 0.5, 0.75, 1.0], 0.01)\n",
    "percentis"
   ]
  },
  {
   "cell_type": "markdown",
   "metadata": {},
   "source": [
    "Agora vou analisar a coluna age do dataframe profile_df"
   ]
  },
  {
   "cell_type": "code",
   "execution_count": 11,
   "metadata": {},
   "outputs": [
    {
     "data": {
      "text/plain": [
       "[18.0, 45.0, 58.0, 72.0, 118.0]"
      ]
     },
     "execution_count": 11,
     "metadata": {},
     "output_type": "execute_result"
    }
   ],
   "source": [
    "percentis = profile_df.approxQuantile(\"age\", [0.0, 0.25, 0.5, 0.75, 1.0], 0.01)\n",
    "percentis"
   ]
  },
  {
   "cell_type": "code",
   "execution_count": 12,
   "metadata": {},
   "outputs": [
    {
     "name": "stdout",
     "output_type": "stream",
     "text": [
      "+---+-----+\n",
      "|age|count|\n",
      "+---+-----+\n",
      "| 18|   70|\n",
      "| 19|  135|\n",
      "| 20|  135|\n",
      "| 21|  140|\n",
      "| 22|  131|\n",
      "| 23|  126|\n",
      "| 24|  139|\n",
      "| 25|  136|\n",
      "| 26|  157|\n",
      "| 27|  139|\n",
      "| 28|  137|\n",
      "| 29|  129|\n",
      "| 30|  131|\n",
      "| 31|  113|\n",
      "| 32|  139|\n",
      "| 33|  152|\n",
      "| 34|  147|\n",
      "| 35|  118|\n",
      "| 36|  175|\n",
      "| 37|  197|\n",
      "| 38|  172|\n",
      "| 39|  182|\n",
      "| 40|  202|\n",
      "| 41|  189|\n",
      "| 42|  227|\n",
      "| 43|  215|\n",
      "| 44|  192|\n",
      "| 45|  231|\n",
      "| 46|  212|\n",
      "| 47|  232|\n",
      "| 48|  288|\n",
      "| 49|  321|\n",
      "| 50|  284|\n",
      "| 51|  363|\n",
      "| 52|  351|\n",
      "| 53|  372|\n",
      "| 54|  359|\n",
      "| 55|  350|\n",
      "| 56|  342|\n",
      "| 57|  353|\n",
      "| 58|  408|\n",
      "| 59|  359|\n",
      "| 60|  333|\n",
      "| 61|  309|\n",
      "| 62|  318|\n",
      "| 63|  338|\n",
      "| 64|  311|\n",
      "| 65|  280|\n",
      "| 66|  284|\n",
      "| 67|  317|\n",
      "| 68|  259|\n",
      "| 69|  242|\n",
      "| 70|  252|\n",
      "| 71|  230|\n",
      "| 72|  191|\n",
      "| 73|  209|\n",
      "| 74|  193|\n",
      "| 75|  159|\n",
      "| 76|  155|\n",
      "| 77|  141|\n",
      "| 78|  135|\n",
      "| 79|  117|\n",
      "| 80|  116|\n",
      "| 81|  118|\n",
      "| 82|  105|\n",
      "| 83|  102|\n",
      "| 84|   83|\n",
      "| 85|   70|\n",
      "| 86|   54|\n",
      "| 87|   66|\n",
      "| 88|   64|\n",
      "| 89|   53|\n",
      "| 90|   52|\n",
      "| 91|   47|\n",
      "| 92|   40|\n",
      "| 93|   29|\n",
      "| 94|   33|\n",
      "| 95|   22|\n",
      "| 96|    8|\n",
      "| 97|   13|\n",
      "| 98|    5|\n",
      "| 99|    5|\n",
      "|100|   12|\n",
      "|101|    5|\n",
      "|118| 2175|\n",
      "+---+-----+\n",
      "\n"
     ]
    }
   ],
   "source": [
    "profile_df.groupBy(\"age\").count().orderBy(\"age\").show(118)"
   ]
  },
  {
   "cell_type": "code",
   "execution_count": 13,
   "metadata": {},
   "outputs": [
    {
     "name": "stderr",
     "output_type": "stream",
     "text": [
      "                                                                                \r"
     ]
    },
    {
     "data": {
      "image/png": "[encoded data removed]",
      "text/plain": [
       "<Figure size 1000x600 with 1 Axes>"
      ]
     },
     "metadata": {},
     "output_type": "display_data"
    }
   ],
   "source": [
    "import matplotlib.pyplot as plt\n",
    "\n",
    "ages = profile_df.select(\"age\").dropna().rdd.flatMap(lambda x: x).collect()\n",
    "\n",
    "\n",
    "# Plotar histograma\n",
    "plt.figure(figsize=(10,6))\n",
    "plt.hist(ages, bins=30, edgecolor=\"black\")  # Você pode ajustar o número de bins se quiser\n",
    "plt.title(\"Distribuição das Idades\")\n",
    "plt.xlabel(\"Idade\")\n",
    "plt.ylabel(\"Número de Clientes\")\n",
    "plt.grid(True)\n",
    "plt.show()"
   ]
  },
  {
   "cell_type": "code",
   "execution_count": 13,
   "metadata": {},
   "outputs": [
    {
     "data": {
      "text/plain": [
       "2175"
      ]
     },
     "execution_count": 13,
     "metadata": {},
     "output_type": "execute_result"
    }
   ],
   "source": [
    "# Verificando a questão de idades com valor 118 e alta média de idades\n",
    "\n",
    "profile_df.filter(col(\"age\") == 118).count()\n"
   ]
  },
  {
   "cell_type": "code",
   "execution_count": 14,
   "metadata": {},
   "outputs": [
    {
     "data": {
      "text/plain": [
       "0"
      ]
     },
     "execution_count": 14,
     "metadata": {},
     "output_type": "execute_result"
    }
   ],
   "source": [
    "profile_df.filter(col(\"age\").isNull()).count()\n"
   ]
  },
  {
   "cell_type": "markdown",
   "metadata": {},
   "source": [
    "**Vou considerar aqui a idade 118 representando missings**"
   ]
  },
  {
   "cell_type": "markdown",
   "metadata": {},
   "source": [
    "## Preparação do Dataframe para treino"
   ]
  },
  {
   "cell_type": "markdown",
   "metadata": {},
   "source": [
    "#### Unificação do offer id"
   ]
  },
  {
   "cell_type": "code",
   "execution_count": 15,
   "metadata": {},
   "outputs": [],
   "source": [
    "# Criando uma nova coluna a partir do coalesce dos offer id's\n",
    "\n",
    "transactions_df = transactions_df.withColumn(\n",
    "    \"offer_id_cleaned\",\n",
    "    coalesce(col(\"value.offer_id\"), col(\"value.`offer id`\"))\n",
    ")"
   ]
  },
  {
   "cell_type": "markdown",
   "metadata": {},
   "source": [
    "#### Tranformando a idade 118 em None"
   ]
  },
  {
   "cell_type": "code",
   "execution_count": 16,
   "metadata": {},
   "outputs": [],
   "source": [
    "profile_df = profile_df.withColumn(\n",
    "    \"age\",\n",
    "    when(col(\"age\") == 118, None).otherwise(col(\"age\"))\n",
    ")"
   ]
  },
  {
   "cell_type": "markdown",
   "metadata": {},
   "source": [
    "#### Criando dataframes separados por tipo de transação \n",
    "\n",
    "Vou horizontalizar a tabela de ofertas recebidas cruzando a o status completed, que será a target do modelo"
   ]
  },
  {
   "cell_type": "code",
   "execution_count": 17,
   "metadata": {},
   "outputs": [],
   "source": [
    "# Separar o dataframe transactions e uní-los posteriormente\n",
    "\n",
    "# Separar ofertas recebidas\n",
    "received_df = transactions_df.filter(col(\"event\") == \"offer received\")\n",
    "\n",
    "# Separar ofertas visualizadas\n",
    "# viewed_df = transactions_df.filter(col(\"event\") == \"offer viewed\")\n",
    "\n",
    "# Separar ofertas completadas\n",
    "completed_df = transactions_df.filter(col(\"event\") == \"offer completed\")\n",
    "\n",
    "# Separar transações normais\n",
    "# purchases_df = transactions_df.filter(col(\"event\") == \"transaction\")"
   ]
  },
  {
   "cell_type": "code",
   "execution_count": 18,
   "metadata": {},
   "outputs": [
    {
     "name": "stderr",
     "output_type": "stream",
     "text": [
      "                                                                                \r"
     ]
    },
    {
     "name": "stdout",
     "output_type": "stream",
     "text": [
      "Ofertas recebidas: 76277\n"
     ]
    },
    {
     "name": "stderr",
     "output_type": "stream",
     "text": [
      "[Stage 41:===========================================>              (3 + 1) / 4]\r"
     ]
    },
    {
     "name": "stdout",
     "output_type": "stream",
     "text": [
      "Ofertas completadas: 33579\n"
     ]
    },
    {
     "name": "stderr",
     "output_type": "stream",
     "text": [
      "                                                                                \r"
     ]
    }
   ],
   "source": [
    "print(f\"Ofertas recebidas: {received_df.count()}\")\n",
    "# print(f\"Ofertas visualizadas: {viewed_df.count()}\")\n",
    "print(f\"Ofertas completadas: {completed_df.count()}\")\n",
    "# print(f\"Compras normais: {purchases_df.count()}\")"
   ]
  },
  {
   "cell_type": "code",
   "execution_count": 15,
   "metadata": {},
   "outputs": [],
   "source": [
    "# Verificando se as ofertas são necessariamente recebidas em time_since_test_start = 0\n",
    "# received_df.select(\"time_since_test_start\").distinct().orderBy(\"time_since_test_start\").show(100)\n"
   ]
  },
  {
   "cell_type": "markdown",
   "metadata": {},
   "source": [
    "Agora vou preparar a base de ofertas recebidas para cruzar a base de ofertas recebidas com a base de ofertas completadas"
   ]
  },
  {
   "cell_type": "code",
   "execution_count": 19,
   "metadata": {},
   "outputs": [],
   "source": [
    "# Agora vou preparar a base de ofertas recebidas para cruzar a base de ofertas recebidas com a base de ofertas completadas\n",
    "\n",
    "offers_base_df = received_df.select(\n",
    "    col(\"account_id\"),\n",
    "    col(\"offer_id_cleaned\"),\n",
    "    col(\"time_since_test_start\").alias(\"offer_received_time\")\n",
    ")"
   ]
  },
  {
   "cell_type": "markdown",
   "metadata": {},
   "source": [
    "Aqui vou criar a target \"completed\""
   ]
  },
  {
   "cell_type": "code",
   "execution_count": 20,
   "metadata": {},
   "outputs": [],
   "source": [
    "from pyspark.sql.functions import lit, when, col\n",
    "\n",
    "completed_flags_df = completed_df.select(\n",
    "    col(\"account_id\").alias(\"completed_account_id\"),\n",
    "    col(\"offer_id_cleaned\").alias(\"completed_offer_id\")\n",
    ").withColumn(\"completed\", lit(1))"
   ]
  },
  {
   "cell_type": "code",
   "execution_count": 21,
   "metadata": {},
   "outputs": [
    {
     "name": "stderr",
     "output_type": "stream",
     "text": [
      "[Stage 45:===========================================>              (3 + 1) / 4]\r"
     ]
    },
    {
     "name": "stdout",
     "output_type": "stream",
     "text": [
      "+--------------------------------+--------------------------------+-------------------+---------+\n",
      "|account_id                      |offer_id_cleaned                |offer_received_time|completed|\n",
      "+--------------------------------+--------------------------------+-------------------+---------+\n",
      "|2eeac8d8feae4a8cad5a6af0499a211d|3f207df678b143eea3cee63160fa8bed|0.0                |0        |\n",
      "|31dda685af34476cad5bc968bdb01c53|0b1e1539f2cc45b7b9fa7c272da2e1d7|0.0                |0        |\n",
      "|389bc3fa690240e798340f5a15918d5c|f19421c1d4aa40978ebb69ca19b0e20d|0.0                |1        |\n",
      "|389bc3fa690240e798340f5a15918d5c|f19421c1d4aa40978ebb69ca19b0e20d|0.0                |1        |\n",
      "|68617ca6246f4fbc85e91a2a49552598|4d5c57ea9a6940dd891ad53e9dbe8da0|0.0                |0        |\n",
      "|744d603ef08c4f33af5a61c8c7628d1c|0b1e1539f2cc45b7b9fa7c272da2e1d7|0.0                |0        |\n",
      "|78afa995795e4d85b5d9ceeca43f5fef|9b98b8c7a33c4b65b9aebfe6a799e6d9|0.0                |1        |\n",
      "|8ec6ce2a7e7949b1bf142def7d0e0586|fafdcd668e3743c1bb461111dcafc2a4|0.0                |0        |\n",
      "|a03223e636434f42ac4c3df47e8bac43|0b1e1539f2cc45b7b9fa7c272da2e1d7|0.0                |0        |\n",
      "|aa4862eba776480b8bb9c68455b8c2e1|0b1e1539f2cc45b7b9fa7c272da2e1d7|0.0                |0        |\n",
      "+--------------------------------+--------------------------------+-------------------+---------+\n",
      "only showing top 10 rows\n",
      "\n"
     ]
    },
    {
     "name": "stderr",
     "output_type": "stream",
     "text": [
      "                                                                                \r"
     ]
    }
   ],
   "source": [
    "\n",
    "# Juntar offers_base_df com completed\n",
    "offers_base_df = offers_base_df.join(\n",
    "    completed_flags_df,\n",
    "    (offers_base_df.account_id == completed_flags_df.completed_account_id) & \n",
    "    (offers_base_df.offer_id_cleaned == completed_flags_df.completed_offer_id),\n",
    "    how=\"left\"\n",
    ").drop(\"completed_account_id\", \"completed_offer_id\")\n",
    "\n",
    "# Preencher nulos na target\n",
    "\n",
    "offers_base_df = offers_base_df.withColumn(\"completed\", when(col(\"completed\").isNull(), 0).otherwise(1))\n",
    "\n",
    "offers_base_df.show(10, truncate=False)\n",
    "\n"
   ]
  },
  {
   "cell_type": "markdown",
   "metadata": {},
   "source": [
    "#### Removendo duplicidades do dataframe"
   ]
  },
  {
   "cell_type": "code",
   "execution_count": 22,
   "metadata": {},
   "outputs": [],
   "source": [
    "offers_base_df = offers_base_df.dropDuplicates()"
   ]
  },
  {
   "cell_type": "markdown",
   "metadata": {},
   "source": [
    "#### Juntar informações dos clientes ao Master Table (offers_base_df)"
   ]
  },
  {
   "cell_type": "markdown",
   "metadata": {},
   "source": [
    "Cria variavel de idade da conta em meses"
   ]
  },
  {
   "cell_type": "code",
   "execution_count": 23,
   "metadata": {},
   "outputs": [
    {
     "name": "stdout",
     "output_type": "stream",
     "text": [
      "+-----------------+-----------------+\n",
      "|min_registered_on|max_registered_on|\n",
      "+-----------------+-----------------+\n",
      "|       2013-07-29|       2018-07-26|\n",
      "+-----------------+-----------------+\n",
      "\n"
     ]
    }
   ],
   "source": [
    "from pyspark.sql.functions import months_between, lit\n",
    "\n",
    "profile_df = profile_df.withColumn(\n",
    "    \"registered_on_date\",\n",
    "    to_date(col(\"registered_on\"), \"yyyyMMdd\")\n",
    ")\n",
    "\n",
    "profile_df.select(\n",
    "    min(\"registered_on_date\").alias(\"min_registered_on\"),\n",
    "    max(\"registered_on_date\").alias(\"max_registered_on\")\n",
    ").show()\n",
    "\n",
    "# Calcular idade da conta em meses\n",
    "profile_df = profile_df.withColumn(\n",
    "    \"account_age_months\",\n",
    "    months_between(lit(\"2018-07-27\"), col(\"registered_on_date\"))\n",
    ")"
   ]
  },
  {
   "cell_type": "markdown",
   "metadata": {},
   "source": [
    "Junção da base dos clientes com a base de ofertas recebidas"
   ]
  },
  {
   "cell_type": "code",
   "execution_count": 24,
   "metadata": {},
   "outputs": [],
   "source": [
    "offers_base_df = offers_base_df.join(\n",
    "    profile_df,\n",
    "    offers_base_df.account_id == profile_df.id,\n",
    "    how=\"left\"\n",
    ").drop(profile_df.id)"
   ]
  },
  {
   "cell_type": "markdown",
   "metadata": {},
   "source": [
    "Criação de variável categórica de faixa de idade"
   ]
  },
  {
   "cell_type": "code",
   "execution_count": 25,
   "metadata": {},
   "outputs": [],
   "source": [
    "# from pyspark.sql.functions import when\n",
    "\n",
    "offers_base_df = offers_base_df.withColumn(\n",
    "    \"age_group\",\n",
    "    when(col(\"age\").isNull(), \"unknown\")\n",
    "    .when(col(\"age\") <= 25, \"18-25\")\n",
    "    .when((col(\"age\") > 25) & (col(\"age\") <= 35), \"26-35\")\n",
    "    .when((col(\"age\") > 35) & (col(\"age\") <= 45), \"36-45\")\n",
    "    .when((col(\"age\") > 45) & (col(\"age\") <= 55), \"46-55\")\n",
    "    .when((col(\"age\") > 55) & (col(\"age\") <= 65), \"56-65\")\n",
    "    .otherwise(\"66+\")\n",
    ")"
   ]
  },
  {
   "cell_type": "code",
   "execution_count": 26,
   "metadata": {},
   "outputs": [
    {
     "name": "stderr",
     "output_type": "stream",
     "text": [
      "                                                                                \r"
     ]
    },
    {
     "name": "stdout",
     "output_type": "stream",
     "text": [
      "+--------------------------------+--------------------------------+-------------------+---------+----+-----------------+------+-------------+------------------+------------------+---------+\n",
      "|account_id                      |offer_id_cleaned                |offer_received_time|completed|age |credit_card_limit|gender|registered_on|registered_on_date|account_age_months|age_group|\n",
      "+--------------------------------+--------------------------------+-------------------+---------+----+-----------------+------+-------------+------------------+------------------+---------+\n",
      "|0861b9ca31b741bb8b411b18f82d18f6|f19421c1d4aa40978ebb69ca19b0e20d|0.0                |1        |73  |92000.0          |M     |20170627     |2017-06-27        |13.0              |66+      |\n",
      "|0485b8cb0bfc4d938895bbd6d8cbd7df|2906b810c7d4411798c6938adc9daaa5|0.0                |0        |NULL|NULL             |NULL  |20180325     |2018-03-25        |4.06451613        |unknown  |\n",
      "|e0f1ca131f4b40a7a5f232b11efa4aea|2298d6c36e964ae4a3e7e9706d1fb8c2|0.0                |1        |NULL|NULL             |NULL  |20170127     |2017-01-27        |18.0              |unknown  |\n",
      "|4ecbfa77f6f84e779ea318682295cbdb|3f207df678b143eea3cee63160fa8bed|0.0                |0        |83  |58000.0          |F     |20130924     |2013-09-24        |58.09677419       |66+      |\n",
      "|523e2d85f3d94eefbca7970e2b16b234|4d5c57ea9a6940dd891ad53e9dbe8da0|0.0                |1        |47  |65000.0          |F     |20160609     |2016-06-09        |25.58064516       |46-55    |\n",
      "|d57bd2200e7b44c6b16892f1ca75f2c9|2906b810c7d4411798c6938adc9daaa5|0.0                |0        |56  |47000.0          |M     |20141027     |2014-10-27        |45.0              |56-65    |\n",
      "|7248fc98eb6c4b1fb0f1a2cec6ba2f93|5a8bc65990b245e5a138643cd4eb9837|0.0                |0        |34  |65000.0          |M     |20170505     |2017-05-05        |14.70967742       |26-35    |\n",
      "|f70bb1c612b5426c80be5182a708845e|3f207df678b143eea3cee63160fa8bed|0.0                |0        |72  |67000.0          |M     |20141230     |2014-12-30        |42.90322581       |66+      |\n",
      "|dd7216675c0c4914973a9a3364b6a651|5a8bc65990b245e5a138643cd4eb9837|0.0                |0        |61  |119000.0         |M     |20170821     |2017-08-21        |11.19354839       |56-65    |\n",
      "|16fb582d943d42c4a8a9865aaacf51d6|9b98b8c7a33c4b65b9aebfe6a799e6d9|0.0                |1        |57  |38000.0          |F     |20180429     |2018-04-29        |2.93548387        |56-65    |\n",
      "+--------------------------------+--------------------------------+-------------------+---------+----+-----------------+------+-------------+------------------+------------------+---------+\n",
      "only showing top 10 rows\n",
      "\n"
     ]
    }
   ],
   "source": [
    "offers_base_df.show(10, truncate=False)\n"
   ]
  },
  {
   "cell_type": "code",
   "execution_count": 27,
   "metadata": {},
   "outputs": [
    {
     "name": "stderr",
     "output_type": "stream",
     "text": [
      "                                                                                \r"
     ]
    },
    {
     "name": "stdout",
     "output_type": "stream",
     "text": [
      "76277\n"
     ]
    },
    {
     "name": "stderr",
     "output_type": "stream",
     "text": [
      "[Stage 75:>                                                         (0 + 2) / 2]\r"
     ]
    },
    {
     "name": "stdout",
     "output_type": "stream",
     "text": [
      "76277\n"
     ]
    },
    {
     "name": "stderr",
     "output_type": "stream",
     "text": [
      "                                                                                \r"
     ]
    }
   ],
   "source": [
    "print(offers_base_df.count())\n",
    "print(offers_base_df.dropDuplicates().count())"
   ]
  },
  {
   "cell_type": "markdown",
   "metadata": {},
   "source": [
    "#### Cruzamento com o offers_df (dataframe com as informações das ofertas)"
   ]
  },
  {
   "cell_type": "code",
   "execution_count": 28,
   "metadata": {},
   "outputs": [],
   "source": [
    "# Aliases para evitar confusão\n",
    "offers_base_alias = offers_base_df.alias(\"offers_base\")\n",
    "offers_info_alias = offers_df.alias(\"offers_info\")\n",
    "\n",
    "# Join usando offer_id_cleaned = id\n",
    "offers_base_df = offers_base_alias.join(\n",
    "    offers_info_alias,\n",
    "    offers_base_alias.offer_id_cleaned == offers_info_alias.id,\n",
    "    how=\"left\"\n",
    ").drop(offers_info_alias.id)\n"
   ]
  },
  {
   "cell_type": "code",
   "execution_count": 29,
   "metadata": {},
   "outputs": [
    {
     "name": "stderr",
     "output_type": "stream",
     "text": [
      "                                                                                \r"
     ]
    },
    {
     "name": "stdout",
     "output_type": "stream",
     "text": [
      "76277\n"
     ]
    },
    {
     "name": "stderr",
     "output_type": "stream",
     "text": [
      "[Stage 97:>                                                         (0 + 2) / 2]\r"
     ]
    },
    {
     "name": "stdout",
     "output_type": "stream",
     "text": [
      "76277\n"
     ]
    },
    {
     "name": "stderr",
     "output_type": "stream",
     "text": [
      "                                                                                \r"
     ]
    }
   ],
   "source": [
    "print(offers_base_df.count())\n",
    "print(offers_base_df.dropDuplicates().count())"
   ]
  },
  {
   "cell_type": "code",
   "execution_count": 30,
   "metadata": {},
   "outputs": [
    {
     "name": "stderr",
     "output_type": "stream",
     "text": [
      "                                                                                \r"
     ]
    },
    {
     "name": "stdout",
     "output_type": "stream",
     "text": [
      "+--------------------------------+--------------------------------+-------------------+---------+----+-----------------+------+-------------+------------------+------------------+---------+----------------------------+--------------+--------+---------+-------------+\n",
      "|account_id                      |offer_id_cleaned                |offer_received_time|completed|age |credit_card_limit|gender|registered_on|registered_on_date|account_age_months|age_group|channels                    |discount_value|duration|min_value|offer_type   |\n",
      "+--------------------------------+--------------------------------+-------------------+---------+----+-----------------+------+-------------+------------------+------------------+---------+----------------------------+--------------+--------+---------+-------------+\n",
      "|0861b9ca31b741bb8b411b18f82d18f6|f19421c1d4aa40978ebb69ca19b0e20d|0.0                |1        |73  |92000.0          |M     |20170627     |2017-06-27        |13.0              |66+      |[web, email, mobile, social]|5             |5.0     |5        |bogo         |\n",
      "|0485b8cb0bfc4d938895bbd6d8cbd7df|2906b810c7d4411798c6938adc9daaa5|0.0                |0        |NULL|NULL             |NULL  |20180325     |2018-03-25        |4.06451613        |unknown  |[web, email, mobile]        |2             |7.0     |10       |discount     |\n",
      "|e0f1ca131f4b40a7a5f232b11efa4aea|2298d6c36e964ae4a3e7e9706d1fb8c2|0.0                |1        |NULL|NULL             |NULL  |20170127     |2017-01-27        |18.0              |unknown  |[web, email, mobile, social]|3             |7.0     |7        |discount     |\n",
      "|4ecbfa77f6f84e779ea318682295cbdb|3f207df678b143eea3cee63160fa8bed|0.0                |0        |83  |58000.0          |F     |20130924     |2013-09-24        |58.09677419       |66+      |[web, email, mobile]        |0             |4.0     |0        |informational|\n",
      "|523e2d85f3d94eefbca7970e2b16b234|4d5c57ea9a6940dd891ad53e9dbe8da0|0.0                |1        |47  |65000.0          |F     |20160609     |2016-06-09        |25.58064516       |46-55    |[web, email, mobile, social]|10            |5.0     |10       |bogo         |\n",
      "|d57bd2200e7b44c6b16892f1ca75f2c9|2906b810c7d4411798c6938adc9daaa5|0.0                |0        |56  |47000.0          |M     |20141027     |2014-10-27        |45.0              |56-65    |[web, email, mobile]        |2             |7.0     |10       |discount     |\n",
      "|7248fc98eb6c4b1fb0f1a2cec6ba2f93|5a8bc65990b245e5a138643cd4eb9837|0.0                |0        |34  |65000.0          |M     |20170505     |2017-05-05        |14.70967742       |26-35    |[email, mobile, social]     |0             |3.0     |0        |informational|\n",
      "|f70bb1c612b5426c80be5182a708845e|3f207df678b143eea3cee63160fa8bed|0.0                |0        |72  |67000.0          |M     |20141230     |2014-12-30        |42.90322581       |66+      |[web, email, mobile]        |0             |4.0     |0        |informational|\n",
      "|dd7216675c0c4914973a9a3364b6a651|5a8bc65990b245e5a138643cd4eb9837|0.0                |0        |61  |119000.0         |M     |20170821     |2017-08-21        |11.19354839       |56-65    |[email, mobile, social]     |0             |3.0     |0        |informational|\n",
      "|16fb582d943d42c4a8a9865aaacf51d6|9b98b8c7a33c4b65b9aebfe6a799e6d9|0.0                |1        |57  |38000.0          |F     |20180429     |2018-04-29        |2.93548387        |56-65    |[web, email, mobile]        |5             |7.0     |5        |bogo         |\n",
      "+--------------------------------+--------------------------------+-------------------+---------+----+-----------------+------+-------------+------------------+------------------+---------+----------------------------+--------------+--------+---------+-------------+\n",
      "only showing top 10 rows\n",
      "\n"
     ]
    }
   ],
   "source": [
    "offers_base_df.show(10, truncate=False)\n"
   ]
  },
  {
   "cell_type": "markdown",
   "metadata": {},
   "source": [
    "#### Criando indicadores para os diferentes canais"
   ]
  },
  {
   "cell_type": "code",
   "execution_count": 31,
   "metadata": {},
   "outputs": [
    {
     "name": "stderr",
     "output_type": "stream",
     "text": [
      "                                                                                \r"
     ]
    },
    {
     "name": "stdout",
     "output_type": "stream",
     "text": [
      "+----------------------------+-------+---------+----------+----------+\n",
      "|channels                    |has_web|has_email|has_mobile|has_social|\n",
      "+----------------------------+-------+---------+----------+----------+\n",
      "|[web, email, mobile, social]|1      |1        |1         |1         |\n",
      "|[web, email, mobile]        |1      |1        |1         |0         |\n",
      "|[web, email, mobile, social]|1      |1        |1         |1         |\n",
      "|[web, email, mobile]        |1      |1        |1         |0         |\n",
      "|[web, email, mobile, social]|1      |1        |1         |1         |\n",
      "|[web, email, mobile]        |1      |1        |1         |0         |\n",
      "|[email, mobile, social]     |0      |1        |1         |1         |\n",
      "|[web, email, mobile]        |1      |1        |1         |0         |\n",
      "|[email, mobile, social]     |0      |1        |1         |1         |\n",
      "|[web, email, mobile]        |1      |1        |1         |0         |\n",
      "+----------------------------+-------+---------+----------+----------+\n",
      "only showing top 10 rows\n",
      "\n"
     ]
    }
   ],
   "source": [
    "#criar indicadores para os diferentes canais\n",
    "\n",
    "offers_base_df = offers_base_df.withColumn(\n",
    "    \"has_web\", array_contains(col(\"channels\"), \"web\").cast(\"int\")\n",
    ").withColumn(\n",
    "    \"has_email\", array_contains(col(\"channels\"), \"email\").cast(\"int\")\n",
    ").withColumn(\n",
    "    \"has_mobile\", array_contains(col(\"channels\"), \"mobile\").cast(\"int\")\n",
    ").withColumn(\n",
    "    \"has_social\", array_contains(col(\"channels\"), \"social\").cast(\"int\")\n",
    ")\n",
    "\n",
    "offers_base_df.select(\"channels\", \"has_web\", \"has_email\", \"has_mobile\", \"has_social\").show(10, truncate=False)\n"
   ]
  },
  {
   "cell_type": "code",
   "execution_count": 32,
   "metadata": {},
   "outputs": [],
   "source": [
    "offers_base_df = offers_base_df.drop(\"channels\")\n"
   ]
  },
  {
   "cell_type": "markdown",
   "metadata": {},
   "source": [
    "#### Tratamento de missings"
   ]
  },
  {
   "cell_type": "code",
   "execution_count": 33,
   "metadata": {},
   "outputs": [
    {
     "name": "stderr",
     "output_type": "stream",
     "text": [
      "[Stage 135:>                                                        (0 + 2) / 2]\r"
     ]
    },
    {
     "name": "stdout",
     "output_type": "stream",
     "text": [
      "+----------+----------------+-------------------+---------+------------------+------------------+------------------+-------------+------------------+------------------+---------+--------------+--------+---------+----------+-------+---------+----------+----------+\n",
      "|account_id|offer_id_cleaned|offer_received_time|completed|age               |credit_card_limit |gender            |registered_on|registered_on_date|account_age_months|age_group|discount_value|duration|min_value|offer_type|has_web|has_email|has_mobile|has_social|\n",
      "+----------+----------------+-------------------+---------+------------------+------------------+------------------+-------------+------------------+------------------+---------+--------------+--------+---------+----------+-------+---------+----------+----------+\n",
      "|0.0       |0.0             |0.0                |0.0      |12.816445324278616|12.816445324278616|12.816445324278616|0.0          |0.0               |0.0               |0.0      |0.0           |0.0     |0.0      |0.0       |0.0    |0.0      |0.0       |0.0       |\n",
      "+----------+----------------+-------------------+---------+------------------+------------------+------------------+-------------+------------------+------------------+---------+--------------+--------+---------+----------+-------+---------+----------+----------+\n",
      "\n"
     ]
    },
    {
     "name": "stderr",
     "output_type": "stream",
     "text": [
      "                                                                                \r"
     ]
    }
   ],
   "source": [
    "total_rows = offers_base_df.count()\n",
    "\n",
    "offers_base_df.select([\n",
    "    (spark_sum(col(c).isNull().cast(\"int\")) / total_rows * 100).alias(c)\n",
    "    for c in offers_base_df.columns\n",
    "]).show(truncate=False)"
   ]
  },
  {
   "cell_type": "code",
   "execution_count": 36,
   "metadata": {},
   "outputs": [],
   "source": [
    "# Tratamento de missings\n",
    "\n",
    "# Criar indicador se o limite de cartão era nulo\n",
    "offers_base_df = offers_base_df.withColumn(\n",
    "    \"is_credit_limit_null\",\n",
    "    when(col(\"credit_card_limit\").isNull(), 1).otherwise(0)\n",
    ")\n",
    "\n",
    "offers_base_df = offers_base_df.withColumn(\n",
    "    \"is_age_null\",\n",
    "    when(col(\"age\").isNull(), 0).otherwise(0)\n",
    ")\n",
    "\n",
    "# Tratar gênero\n",
    "offers_base_df = offers_base_df.withColumn(\n",
    "    \"gender\",\n",
    "    when(col(\"gender\").isNull(), \"unknown\").otherwise(col(\"gender\"))\n",
    ")\n",
    "\n",
    "# Tratar age_group\n",
    "offers_base_df = offers_base_df.withColumn(\n",
    "    \"age_group\",\n",
    "    when(col(\"age_group\").isNull(), \"unknown\").otherwise(col(\"age_group\"))\n",
    ")\n",
    "\n",
    "# Tratar credit_card_limit depois de ter criado uma variável indicadora de limite null\n",
    "offers_base_df = offers_base_df.withColumn(\n",
    "    \"credit_card_limit\",\n",
    "    when(col(\"credit_card_limit\").isNull(), 0).otherwise(col(\"credit_card_limit\"))\n",
    ")\n",
    "\n",
    "# Tratar age depois de ter criado uma variável indicadora de is_age_null\n",
    "offers_base_df = offers_base_df.withColumn(\n",
    "    \"age\",\n",
    "    when(col(\"age\").isNull(), 0).otherwise(col(\"age\"))\n",
    ")\n"
   ]
  },
  {
   "cell_type": "code",
   "execution_count": 37,
   "metadata": {},
   "outputs": [
    {
     "name": "stderr",
     "output_type": "stream",
     "text": [
      "                                                                                \r"
     ]
    },
    {
     "name": "stdout",
     "output_type": "stream",
     "text": [
      "+----------+----------------+-------------------+---------+---+-----------------+------+-------------+------------------+------------------+---------+--------------+--------+---------+----------+-------+---------+----------+----------+--------------------+-----------+\n",
      "|account_id|offer_id_cleaned|offer_received_time|completed|age|credit_card_limit|gender|registered_on|registered_on_date|account_age_months|age_group|discount_value|duration|min_value|offer_type|has_web|has_email|has_mobile|has_social|is_credit_limit_null|is_age_null|\n",
      "+----------+----------------+-------------------+---------+---+-----------------+------+-------------+------------------+------------------+---------+--------------+--------+---------+----------+-------+---------+----------+----------+--------------------+-----------+\n",
      "|0.0       |0.0             |0.0                |0.0      |0.0|0.0              |0.0   |0.0          |0.0               |0.0               |0.0      |0.0           |0.0     |0.0      |0.0       |0.0    |0.0      |0.0       |0.0       |0.0                 |0.0        |\n",
      "+----------+----------------+-------------------+---------+---+-----------------+------+-------------+------------------+------------------+---------+--------------+--------+---------+----------+-------+---------+----------+----------+--------------------+-----------+\n",
      "\n"
     ]
    }
   ],
   "source": [
    "offers_base_df.select([\n",
    "    (spark_sum(col(c).isNull().cast(\"int\")) / total_rows * 100).alias(c)\n",
    "    for c in offers_base_df.columns\n",
    "]).show(truncate=False)"
   ]
  },
  {
   "cell_type": "code",
   "execution_count": 41,
   "metadata": {},
   "outputs": [],
   "source": [
    "offers_base_df = offers_base_df.drop(\"offer_received_time\")\n"
   ]
  },
  {
   "cell_type": "code",
   "execution_count": 54,
   "metadata": {},
   "outputs": [],
   "source": [
    "#dropando viewd pois não terei essa informação em produção\n",
    "# offers_base_df = offers_base_df.drop(\"viewed\")\n"
   ]
  },
  {
   "cell_type": "markdown",
   "metadata": {},
   "source": [
    "#### Verificando e tratando duplicidades no dataframe resultante"
   ]
  },
  {
   "cell_type": "code",
   "execution_count": 38,
   "metadata": {},
   "outputs": [
    {
     "name": "stderr",
     "output_type": "stream",
     "text": [
      "                                                                                \r"
     ]
    },
    {
     "name": "stdout",
     "output_type": "stream",
     "text": [
      "Total de linhas: 76277\n"
     ]
    },
    {
     "name": "stderr",
     "output_type": "stream",
     "text": [
      "[Stage 179:>                                                        (0 + 2) / 2]\r"
     ]
    },
    {
     "name": "stdout",
     "output_type": "stream",
     "text": [
      "Linhas únicas: 76277\n",
      "Linhas duplicadas: 0\n"
     ]
    },
    {
     "name": "stderr",
     "output_type": "stream",
     "text": [
      "                                                                                \r"
     ]
    }
   ],
   "source": [
    "total_rows = offers_base_df.count()\n",
    "print(f\"Total de linhas: {total_rows}\")\n",
    "\n",
    "unique_rows = offers_base_df.dropDuplicates().count()\n",
    "print(f\"Linhas únicas: {unique_rows}\")\n",
    "\n",
    "duplicated_rows = total_rows - unique_rows\n",
    "print(f\"Linhas duplicadas: {duplicated_rows}\")\n"
   ]
  },
  {
   "cell_type": "code",
   "execution_count": 39,
   "metadata": {},
   "outputs": [],
   "source": [
    "offers_base_df = offers_base_df.dropDuplicates()\n"
   ]
  },
  {
   "cell_type": "code",
   "execution_count": 42,
   "metadata": {},
   "outputs": [
    {
     "name": "stderr",
     "output_type": "stream",
     "text": [
      "                                                                                \r"
     ]
    }
   ],
   "source": [
    "# Salvando os dados processados\n",
    "\n",
    "offers_base_df.write.mode(\"overwrite\").parquet(\"../data/processed/offers_base_clean.parquet\")\n"
   ]
  }
 ],
 "metadata": {
  "kernelspec": {
   "display_name": "Python 3",
   "language": "python",
   "name": "python3"
  },
  "language_info": {
   "codemirror_mode": {
    "name": "ipython",
    "version": 3
   },
   "file_extension": ".py",
   "mimetype": "text/x-python",
   "name": "python",
   "nbconvert_exporter": "python",
   "pygments_lexer": "ipython3",
   "version": "3.11.5"
  },
  "orig_nbformat": 4
 },
 "nbformat": 4,
 "nbformat_minor": 2
}
